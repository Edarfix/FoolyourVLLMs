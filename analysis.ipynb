{
 "cells": [
  {
   "cell_type": "code",
   "execution_count": null,
   "metadata": {},
   "outputs": [
    {
     "name": "stdout",
     "output_type": "stream",
     "text": [
      "Running main with model=qwen1 and permutation_attack=False\n",
      "['abstract_algebra', 'elementary_mathematics', 'formal_logic', 'global_facts', 'high_school_biology', 'high_school_chemistry', 'high_school_computer_science', 'high_school_european_history', 'high_school_geography', 'high_school_government_and_politics', 'high_school_macroeconomics', 'high_school_mathematics', 'high_school_microeconomics', 'high_school_physics', 'high_school_psychology', 'high_school_statistics', 'high_school_us_history', 'high_school_world_history']\n",
      "Namespace(ntrain=0, data_dir='data/MMLU', engine=['qwen1'], n_reduced=None, use_subset=True, permutation_attack=False, position_permute=False, reduce_attack=False, load_in_8bit=False)\n",
      "=====================================\n",
      "Engine: qwen1\n",
      "=====================================\n",
      "Average accuracy 36.00 - abstract_algebra\n",
      "Average accuracy 39.00 - elementary_mathematics\n",
      "Average accuracy 39.00 - formal_logic\n"
     ]
    }
   ],
   "source": [
    "\n",
    "from LLMs_attack import *\n",
    "\n",
    "models = [\"qwen1\"]\n",
    "attacks = [False, True]\n",
    "    \n",
    "for model in models:\n",
    "        for attack in attacks:\n",
    "                args = argparse.Namespace(\n",
    "                ntrain=0,\n",
    "                data_dir=\"data/MMLU\",\n",
    "                engine=[model],\n",
    "                n_reduced=None,\n",
    "                use_subset=True,\n",
    "                permutation_attack=attack,\n",
    "                position_permute=False,\n",
    "                reduce_attack=False,\n",
    "                load_in_8bit=False,\n",
    "                )\n",
    "                print(f\"Running main with model={model} and permutation_attack={attack}\")\n",
    "                main(args)"
   ]
  }
 ],
 "metadata": {
  "kernelspec": {
   "display_name": "base",
   "language": "python",
   "name": "python3"
  },
  "language_info": {
   "codemirror_mode": {
    "name": "ipython",
    "version": 3
   },
   "file_extension": ".py",
   "mimetype": "text/x-python",
   "name": "python",
   "nbconvert_exporter": "python",
   "pygments_lexer": "ipython3",
   "version": "3.9.7"
  }
 },
 "nbformat": 4,
 "nbformat_minor": 2
}
