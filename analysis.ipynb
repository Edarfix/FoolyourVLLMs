{
 "cells": [
  {
   "cell_type": "code",
   "execution_count": null,
   "metadata": {},
   "outputs": [
    {
     "name": "stdout",
     "output_type": "stream",
     "text": [
      "2.6.0+cu118\n",
      "True\n",
      "11.8\n",
      "NVIDIA GeForce RTX 4060 Laptop GPU\n",
      "['abstract_algebra', 'elementary_mathematics']\n",
      "Namespace(ntrain=0, data_dir='data/MMLU', engine=['qwen1'], n_reduced=None, use_subset=True, permutation_attack=False, position_permute=False, reduce_attack=False, load_in_8bit=False)\n",
      "=====================================\n",
      "Engine: qwen1\n",
      "=====================================\n"
     ]
    },
    {
     "name": "stderr",
     "output_type": "stream",
     "text": [
      "Sliding Window Attention is enabled but not implemented for `sdpa`; unexpected results may be encountered.\n"
     ]
    },
    {
     "name": "stdout",
     "output_type": "stream",
     "text": [
      "Prompt:  The following are multiple choice questions (with answers) about abstract_algebra.\n",
      "\n",
      "Find the degree for the given field extension Q(sqrt(2), sqrt(3), sqrt(18)) over Q.\n",
      "A. 0\n",
      "B. 4\n",
      "C. 2\n",
      "D. 6\n",
      "Answer:\n",
      "Average accuracy 100.00 - abstract_algebra\n",
      "Prompt:  The following are multiple choice questions (with answers) about elementary_mathematics.\n",
      "\n",
      "What is the value of p in 24 = 2p?\n",
      "A. p = 4\n",
      "B. p = 8\n",
      "C. p = 12\n",
      "D. p = 24\n",
      "Answer:\n",
      "Average accuracy 0.00 - elementary_mathematics\n",
      "Average accuracy: 50.00\n",
      "\n",
      "\n",
      "\n",
      "['abstract_algebra', 'elementary_mathematics']\n",
      "Namespace(ntrain=0, data_dir='data/MMLU', engine=['qwen1'], n_reduced=None, use_subset=True, permutation_attack=True, position_permute=False, reduce_attack=False, load_in_8bit=False)\n",
      "=====================================\n",
      "Engine: qwen1\n",
      "=====================================\n",
      "Average accuracy 0.00 - abstract_algebra\n",
      "Average accuracy 0.00 - elementary_mathematics\n",
      "Average accuracy: 0.00\n",
      "\n",
      "\n",
      "\n"
     ]
    }
   ],
   "source": [
    "from LLMs_attack import *\n",
    "\n",
    "print(torch.__version__)  # Check PyTorch version\n",
    "print(torch.cuda.is_available())  # Doit afficher True\n",
    "print(torch.version.cuda)  # Doit afficher une version de CUDA\n",
    "print(torch.cuda.get_device_name(0))  # Doit afficher le nom de votre GPU\n",
    "models = [\"qwen1\"]\n",
    "accuracy = {}\n",
    "\n",
    "args = argparse.Namespace(\n",
    "ntrain=0,\n",
    "data_dir=\"data/MMLU\",\n",
    "engine=models,\n",
    "n_reduced=None,\n",
    "use_subset=True,\n",
    "subset_size = 3,\n",
    "permutation_attack=False,\n",
    "position_permute=False,\n",
    "reduce_attack=False,\n",
    "load_in_8bit=False,\n",
    ")\n",
    "\n",
    "accuracy['standard'] = main(args)\n",
    "args.permutation_attack = True\n",
    "accuracy['permutation'] = main(args)"
   ]
  },
  {
   "cell_type": "code",
   "execution_count": 2,
   "metadata": {},
   "outputs": [
    {
     "name": "stdout",
     "output_type": "stream",
     "text": [
      "{'standard': {'qwen1': [np.float64(1.0), np.float64(0.0)]}, 'permutation': {'qwen1': []}}\n"
     ]
    }
   ],
   "source": [
    "print(accuracy)"
   ]
  }
 ],
 "metadata": {
  "kernelspec": {
   "display_name": "myenv",
   "language": "python",
   "name": "python3"
  },
  "language_info": {
   "codemirror_mode": {
    "name": "ipython",
    "version": 3
   },
   "file_extension": ".py",
   "mimetype": "text/x-python",
   "name": "python",
   "nbconvert_exporter": "python",
   "pygments_lexer": "ipython3",
   "version": "3.13.2"
  }
 },
 "nbformat": 4,
 "nbformat_minor": 2
}
