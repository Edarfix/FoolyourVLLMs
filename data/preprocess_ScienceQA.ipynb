{
 "cells": [
  {
   "cell_type": "code",
   "execution_count": 1,
   "metadata": {},
   "outputs": [],
   "source": [
    "import json\n",
    "import numpy as np\n",
    "import pandas as pd\n",
    "import os"
   ]
  },
  {
   "cell_type": "markdown",
   "metadata": {},
   "source": [
    "Download the dataset following https://github.com/lupantech/ScienceQA#ghost-download-the-dataset.\\\n",
    "We only need the test set."
   ]
  },
  {
   "cell_type": "code",
   "execution_count": 5,
   "metadata": {},
   "outputs": [
    {
     "data": {
      "text/plain": [
       "2017"
      ]
     },
     "execution_count": 5,
     "metadata": {},
     "output_type": "execute_result"
    }
   ],
   "source": [
    "with open(\"./ScienceQA/data/scienceqa/problems.json\", \"r\") as f:\n",
    "    data = json.load(f)\n",
    "\n",
    "test_list = [{id: item} for id, item in data.items() if item['split'] == 'test' and (item['image'] != 'null' and item['image'] is not None)]\n",
    "len(test_list)"
   ]
  },
  {
   "cell_type": "code",
   "execution_count": 6,
   "metadata": {},
   "outputs": [],
   "source": [
    "def group_by_choices(data_list):\n",
    "    grouped_by_choices = {}\n",
    "    for d in data_list:\n",
    "        for key, value in d.items():\n",
    "            num_choices = len(value['choices'])\n",
    "            if num_choices not in grouped_by_choices:\n",
    "                grouped_by_choices[num_choices] = []\n",
    "            \n",
    "            # Create a new dictionary with choices as separate keys\n",
    "            new_dict = value.copy()\n",
    "            for i, choice in enumerate(value['choices']):\n",
    "                new_dict[f'choice{i+1}'] = choice\n",
    "            new_dict['image_id'] = key\n",
    "            new_dict['image_path'] = f\"{value['split']}/{key}/image.png\"\n",
    "            new_dict['label'] = chr(65 + value['answer'])\n",
    "            new_dict.pop('choices')\n",
    "            \n",
    "            grouped_by_choices[num_choices].append(new_dict)\n",
    "    return grouped_by_choices"
   ]
  },
  {
   "cell_type": "code",
   "execution_count": 7,
   "metadata": {},
   "outputs": [],
   "source": [
    "!mkdir ScienceQA/meta_data"
   ]
  },
  {
   "cell_type": "code",
   "execution_count": 8,
   "metadata": {},
   "outputs": [],
   "source": [
    "dataframes = {}\n",
    "test_grouped_by_choices = group_by_choices(test_list)\n",
    "for num_choices, questions in test_grouped_by_choices.items():\n",
    "    dataframes[num_choices] = pd.DataFrame(questions)\n",
    "for num_choices, df in dataframes.items():\n",
    "    df.to_csv(f'ScienceQA/meta_data/{num_choices}choices_test.csv', index=False)"
   ]
  }
 ],
 "metadata": {
  "kernelspec": {
   "display_name": "base",
   "language": "python",
   "name": "python3"
  },
  "language_info": {
   "codemirror_mode": {
    "name": "ipython",
    "version": 3
   },
   "file_extension": ".py",
   "mimetype": "text/x-python",
   "name": "python",
   "nbconvert_exporter": "python",
   "pygments_lexer": "ipython3",
   "version": "3.9.18"
  }
 },
 "nbformat": 4,
 "nbformat_minor": 2
}
